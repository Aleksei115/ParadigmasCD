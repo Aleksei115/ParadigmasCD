{
  "nbformat": 4,
  "nbformat_minor": 0,
  "metadata": {
    "colab": {
      "provenance": [],
      "authorship_tag": "ABX9TyPWQPAdEQj/uFcrsu0LI0oU",
      "include_colab_link": true
    },
    "kernelspec": {
      "name": "python3",
      "display_name": "Python 3"
    },
    "language_info": {
      "name": "python"
    }
  },
  "cells": [
    {
      "cell_type": "markdown",
      "metadata": {
        "id": "view-in-github",
        "colab_type": "text"
      },
      "source": [
        "<a href=\"https://colab.research.google.com/github/Aleksei115/ParadigmasCD/blob/main/PCA%20y%20LDA.ipynb\" target=\"_parent\"><img src=\"https://colab.research.google.com/assets/colab-badge.svg\" alt=\"Open In Colab\"/></a>"
      ]
    },
    {
      "cell_type": "code",
      "execution_count": 13,
      "metadata": {
        "colab": {
          "base_uri": "https://localhost:8080/"
        },
        "id": "Ltj4mHrfQOkA",
        "outputId": "63882bde-15f6-4d7e-d7e7-ea59982cc429"
      },
      "outputs": [
        {
          "output_type": "stream",
          "name": "stdout",
          "text": [
            "Matriz de Covarianza:\n",
            "[[1.8825     1.625      1.895     ]\n",
            " [1.625      1.48333333 1.68666667]\n",
            " [1.895      1.68666667 1.95      ]]\n"
          ]
        }
      ],
      "source": [
        "import numpy as np\n",
        "import pandas as pd\n",
        "import matplotlib.pyplot as plt\n",
        "from sklearn.model_selection import train_test_split\n",
        "from sklearn.preprocessing import StandardScaler\n",
        "\n",
        "\n",
        "\n",
        "# Supongamos que tenemos un conjunto de datos con dos variables en forma de matriz\n",
        "# Cada fila representa una observación y cada columna una variable.\n",
        "data = np.array([[1.2, 2.3, 3.1],\n",
        "                 [2.1, 3.4, 4.0],\n",
        "                 [3.6, 4.1, 5.2],\n",
        "                 [4.2, 5.2, 6.3]])\n",
        "\n",
        "# Calculamos las medias de las variables\n",
        "mean_vector = np.mean(data, axis=0)\n",
        "\n",
        "# Calculamos la matriz de diferencias\n",
        "differences = data - mean_vector\n",
        "\n",
        "# Calculamos la matriz de covarianza\n",
        "cov_matrix = np.cov(data, rowvar=False)  # Usamos rowvar=False para que las variables estén en columnas\n",
        "\n",
        "print(\"Matriz de Covarianza:\")\n",
        "print(cov_matrix)"
      ]
    },
    {
      "cell_type": "code",
      "source": [
        "import plotly.express as px\n",
        "\n",
        "df = px.data.iris()\n",
        "\n",
        "fig = px.scatter_3d(df,x='sepal_length',y='petal_length',z='petal_width')\n",
        "fig.show()"
      ],
      "metadata": {
        "id": "YdqHQNqSRdzm"
      },
      "execution_count": null,
      "outputs": []
    },
    {
      "cell_type": "markdown",
      "source": [
        "# Principal Component Analysis - PCA"
      ],
      "metadata": {
        "id": "mgFGLf5fSd9O"
      }
    },
    {
      "cell_type": "markdown",
      "source": [
        "PCA se encarga de regresar las componentes ortogonales que maximizan la varianza"
      ],
      "metadata": {
        "id": "fP5wxdXzeuwi"
      }
    },
    {
      "cell_type": "code",
      "source": [
        "df_wine = pd.read_csv('https://bit.ly/3L1ZZI4',header=None)\n",
        "\n",
        "# df_wine.head(3)"
      ],
      "metadata": {
        "id": "jMwfRMIdSc0e"
      },
      "execution_count": 20,
      "outputs": []
    },
    {
      "cell_type": "markdown",
      "source": [
        "Separamos el conjunto en datos de entrenamiento y datos de prueba."
      ],
      "metadata": {
        "id": "-bUbDLLsTJfw"
      }
    },
    {
      "cell_type": "code",
      "source": [
        "#TODAS las filas y de la columna 1 hasta la ultima para X\n",
        "\n",
        "#Para Y todas las filas y solo la columna 1\n",
        "\n",
        "\n",
        "X,y = df_wine.iloc[:,1:].values, df_wine.iloc[:,0].values\n",
        "\n",
        "X_train, X_test, y_train, y_test = train_test_split(X,y,test_size=0.3)"
      ],
      "metadata": {
        "id": "VXt0OpBwTTvk"
      },
      "execution_count": 34,
      "outputs": []
    },
    {
      "cell_type": "markdown",
      "source": [
        "Estandarizamos los datos"
      ],
      "metadata": {
        "id": "YcR4btpqUEWn"
      }
    },
    {
      "cell_type": "code",
      "source": [
        "sc = StandardScaler()\n",
        "\n",
        "#Aqui estandarizamos los datos\n",
        "X_train_std = sc.fit_transform(X_train)\n",
        "\n",
        "X_test_std = sc.transform(X_test)\n",
        "\n",
        "X_train_std.shape"
      ],
      "metadata": {
        "colab": {
          "base_uri": "https://localhost:8080/"
        },
        "id": "zm2Zdz4HUD9O",
        "outputId": "22830355-7898-4899-c1e5-cfede9e1ce09"
      },
      "execution_count": 44,
      "outputs": [
        {
          "output_type": "execute_result",
          "data": {
            "text/plain": [
              "(124, 13)"
            ]
          },
          "metadata": {},
          "execution_count": 44
        }
      ]
    },
    {
      "cell_type": "markdown",
      "source": [
        "Descomponer la matriz de covarianza y obtener los eigenvalores y eigenvectores"
      ],
      "metadata": {
        "id": "jXaKsybyUpC6"
      }
    },
    {
      "cell_type": "code",
      "source": [
        "cov_mat = np.cov(X_train_std.T)\n",
        "\n",
        "eigen_vals, eigen_vecs = np.linalg.eig(cov_mat)\n",
        "\n",
        "print(\"Eigenvalores\",eigen_vals)"
      ],
      "metadata": {
        "colab": {
          "base_uri": "https://localhost:8080/"
        },
        "id": "nWzRvyCyUxQm",
        "outputId": "18950f94-e496-4059-8340-bd99473bb3b6"
      },
      "execution_count": 45,
      "outputs": [
        {
          "output_type": "stream",
          "name": "stdout",
          "text": [
            "Eigenvalores [4.62601734 2.61246917 1.58062223 0.9886617  0.85041938 0.57130818\n",
            " 0.46938706 0.36255644 0.11287656 0.17303358 0.28977105 0.25906819\n",
            " 0.20950018]\n"
          ]
        }
      ]
    },
    {
      "cell_type": "markdown",
      "source": [
        "##### Crear esta grafica nos ayudara a visualizar cuantas componentes queremos obtener despues de aplicar PCA o LDA. En el caso de este notebook, elegimos 2 componentes ya que con 2 componentes alcanzamos el 60% de la varianza"
      ],
      "metadata": {
        "id": "GRwZa41Kk5UO"
      }
    },
    {
      "cell_type": "code",
      "source": [
        "#Grafica con los aportes de cada eigenvalor\n",
        "\n",
        "tot = sum(eigen_vals)\n",
        "\n",
        "# Varianza explicada\n",
        "var_exp = [ev/tot for ev in sorted(eigen_vals,reverse=True)]\n",
        "cum_var_exp = np.cumsum(var_exp)\n",
        "\n",
        "plt.bar(range(1,14),var_exp,label='Varianza individual', align='center')\n",
        "\n",
        "plt.step(range(1,14),cum_var_exp,label='Varianza acumulativa',where='mid')\n",
        "\n",
        "plt.xlabel('Indice de las componentes')\n",
        "plt.ylabel('varianza')\n",
        "plt.legend(loc='best')\n",
        "plt.show()"
      ],
      "metadata": {
        "colab": {
          "base_uri": "https://localhost:8080/",
          "height": 449
        },
        "id": "1uGCSNa4VJ7O",
        "outputId": "499d40b0-d68f-4194-cc33-fd2876ea022f"
      },
      "execution_count": 47,
      "outputs": [
        {
          "output_type": "display_data",
          "data": {
            "text/plain": [
              "<Figure size 640x480 with 1 Axes>"
            ],
            "image/png": "[encoded data removed]"
          },
          "metadata": {}
        }
      ]
    },
    {
      "cell_type": "markdown",
      "source": [
        "Lista de eigenvalores y eigenvalores"
      ],
      "metadata": {
        "id": "aWFoxG4gXD2J"
      }
    },
    {
      "cell_type": "code",
      "source": [
        "eigen_par = [(np.abs(eigen_vals[i]),eigen_vecs[i]) for i in range(len(eigen_vals))]\n",
        "\n",
        "#Ordenamiento descendente\n",
        "\n",
        "eigen_par.sort(key= lambda k:k[0], reverse=True)\n"
      ],
      "metadata": {
        "id": "tFpVRXmtXA71"
      },
      "execution_count": 48,
      "outputs": []
    },
    {
      "cell_type": "markdown",
      "source": [
        "Creamos la matriz de transformación"
      ],
      "metadata": {
        "id": "HqhFgE38Xr3j"
      }
    },
    {
      "cell_type": "code",
      "source": [
        "w = np.hstack((eigen_par[0][1][:,np.newaxis], eigen_par[1][1][:,np.newaxis] ))\n",
        "\n",
        "print('Matriz w: \\n',w)"
      ],
      "metadata": {
        "colab": {
          "base_uri": "https://localhost:8080/"
        },
        "id": "VT_C-7u1XwUY",
        "outputId": "50c2674e-4975-4815-b6ee-88d78255dd98"
      },
      "execution_count": 49,
      "outputs": [
        {
          "output_type": "stream",
          "name": "stdout",
          "text": [
            "Matriz w: \n",
            " [[ 0.13258227 -0.23595667]\n",
            " [ 0.48485592  0.25660265]\n",
            " [ 0.19289636 -0.07596076]\n",
            " [-0.03563474  0.59772604]\n",
            " [-0.31315666  0.01409293]\n",
            " [ 0.15206109  0.26490075]\n",
            " [-0.03435125 -0.51789021]\n",
            " [-0.2411596  -0.1912089 ]\n",
            " [ 0.01890475  0.08847956]\n",
            " [ 0.11907984  0.00246569]\n",
            " [-0.14676818 -0.23500741]\n",
            " [-0.67345894  0.27446846]\n",
            " [-0.1967358   0.04352939]]\n"
          ]
        }
      ]
    },
    {
      "cell_type": "markdown",
      "source": [
        "Transformar una muestra $1 x 13$ ad $1x2$\n"
      ],
      "metadata": {
        "id": "bSUci6VEYsRQ"
      }
    },
    {
      "cell_type": "code",
      "source": [
        "print('Original : ', X_train_std[0])\n",
        "print('Proyectada: ',X_train_std[0].dot(w))"
      ],
      "metadata": {
        "colab": {
          "base_uri": "https://localhost:8080/"
        },
        "id": "q17kL35JYqzm",
        "outputId": "6d4a4de4-f121-48f1-c43e-093de4c8fe1c"
      },
      "execution_count": 50,
      "outputs": [
        {
          "output_type": "stream",
          "name": "stdout",
          "text": [
            "Original :  [ 0.84905211 -0.38140555  0.03038798 -0.78298008  0.08954355  0.51119828\n",
            "  0.85800163 -0.70242983  0.20053374 -0.51558702  0.60264039  1.91611261\n",
            "  0.88934463]\n",
            "Proyectada:  [-1.46042048 -0.50241412]\n"
          ]
        }
      ]
    },
    {
      "cell_type": "code",
      "source": [
        "X_train_pca = X_train_std.dot(w)\n",
        "X_train_pca.shape"
      ],
      "metadata": {
        "colab": {
          "base_uri": "https://localhost:8080/"
        },
        "id": "v5jv_LAuZfE_",
        "outputId": "0815434b-28bd-47fa-a2ac-c613a5108f60"
      },
      "execution_count": 51,
      "outputs": [
        {
          "output_type": "execute_result",
          "data": {
            "text/plain": [
              "(124, 2)"
            ]
          },
          "metadata": {},
          "execution_count": 51
        }
      ]
    },
    {
      "cell_type": "markdown",
      "source": [
        "## Tarea\n",
        "\n",
        "Probar con una LR Logistic Regression\n",
        ""
      ],
      "metadata": {
        "id": "eqjqYmSnZ-vM"
      }
    },
    {
      "cell_type": "markdown",
      "source": [
        "##PCA  en sklearn"
      ],
      "metadata": {
        "id": "DIPRZfG2aUMk"
      }
    },
    {
      "cell_type": "code",
      "source": [
        "from sklearn.model_selection import train_test_split\n",
        "\n",
        "df_wine = pd.read_csv('https://bit.ly/3L1ZZI4',header=None)\n",
        "\n",
        "X,y = df_wine.iloc[:,1:].values,df_wine.iloc[:,0].values\n"
      ],
      "metadata": {
        "id": "4vKa1C5baSig"
      },
      "execution_count": 64,
      "outputs": []
    },
    {
      "cell_type": "markdown",
      "source": [
        "Elegimos conjunto de entrenamiento y conjunto de prueba"
      ],
      "metadata": {
        "id": "8hHvSb2xa2OY"
      }
    },
    {
      "cell_type": "code",
      "source": [
        "X_train,X_test,y_train,y_test = train_test_split(X,y,test_size=0.3)"
      ],
      "metadata": {
        "id": "8I_NfG7Ga1yE"
      },
      "execution_count": 65,
      "outputs": []
    },
    {
      "cell_type": "markdown",
      "source": [
        "Estandarizamos los datos"
      ],
      "metadata": {
        "id": "_THWS65qbNNd"
      }
    },
    {
      "cell_type": "code",
      "source": [
        "from sklearn.preprocessing import StandardScaler\n",
        "\n",
        "sc = StandardScaler()\n",
        "\n",
        "X_train_std = sc.fit_transform(X_train)\n",
        "X_test_std = sc.transform(X_test)"
      ],
      "metadata": {
        "id": "2Hi_7fQAbPBA"
      },
      "execution_count": 67,
      "outputs": []
    },
    {
      "cell_type": "markdown",
      "source": [
        "Revisar con LR"
      ],
      "metadata": {
        "id": "3LQaU7IHbn9l"
      }
    },
    {
      "cell_type": "code",
      "source": [
        "from sklearn.decomposition import PCA\n",
        "\n",
        "from sklearn.linear_model import LogisticRegression\n",
        "\n",
        "pca = PCA(n_components=2)\n",
        "\n",
        "lr = LogisticRegression(multi_class='auto', solver='liblinear')"
      ],
      "metadata": {
        "id": "JSST8w1ZbnWt"
      },
      "execution_count": 68,
      "outputs": []
    },
    {
      "cell_type": "code",
      "source": [
        "X_train_pca = pca.fit_transform(X_train_std)\n",
        "\n",
        "X_test_pca = pca.transform(X_test_std)\n",
        "\n",
        "lr.fit(X_train_pca,y_train)"
      ],
      "metadata": {
        "colab": {
          "base_uri": "https://localhost:8080/",
          "height": 74
        },
        "id": "61AhqiyZcB3d",
        "outputId": "50a21d29-8cc6-4968-c501-5f24066135cc"
      },
      "execution_count": 69,
      "outputs": [
        {
          "output_type": "execute_result",
          "data": {
            "text/plain": [
              "LogisticRegression(solver='liblinear')"
            ],
            "text/html": [
              "<style>#sk-container-id-1 {color: black;background-color: white;}#sk-container-id-1 pre{padding: 0;}#sk-container-id-1 div.sk-toggleable {background-color: white;}#sk-container-id-1 label.sk-toggleable__label {cursor: pointer;display: block;width: 100%;margin-bottom: 0;padding: 0.3em;box-sizing: border-box;text-align: center;}#sk-container-id-1 label.sk-toggleable__label-arrow:before {content: \"▸\";float: left;margin-right: 0.25em;color: #696969;}#sk-container-id-1 label.sk-toggleable__label-arrow:hover:before {color: black;}#sk-container-id-1 div.sk-estimator:hover label.sk-toggleable__label-arrow:before {color: black;}#sk-container-id-1 div.sk-toggleable__content {max-height: 0;max-width: 0;overflow: hidden;text-align: left;background-color: #f0f8ff;}#sk-container-id-1 div.sk-toggleable__content pre {margin: 0.2em;color: black;border-radius: 0.25em;background-color: #f0f8ff;}#sk-container-id-1 input.sk-toggleable__control:checked~div.sk-toggleable__content {max-height: 200px;max-width: 100%;overflow: auto;}#sk-container-id-1 input.sk-toggleable__control:checked~label.sk-toggleable__label-arrow:before {content: \"▾\";}#sk-container-id-1 div.sk-estimator input.sk-toggleable__control:checked~label.sk-toggleable__label {background-color: #d4ebff;}#sk-container-id-1 div.sk-label input.sk-toggleable__control:checked~label.sk-toggleable__label {background-color: #d4ebff;}#sk-container-id-1 input.sk-hidden--visually {border: 0;clip: rect(1px 1px 1px 1px);clip: rect(1px, 1px, 1px, 1px);height: 1px;margin: -1px;overflow: hidden;padding: 0;position: absolute;width: 1px;}#sk-container-id-1 div.sk-estimator {font-family: monospace;background-color: #f0f8ff;border: 1px dotted black;border-radius: 0.25em;box-sizing: border-box;margin-bottom: 0.5em;}#sk-container-id-1 div.sk-estimator:hover {background-color: #d4ebff;}#sk-container-id-1 div.sk-parallel-item::after {content: \"\";width: 100%;border-bottom: 1px solid gray;flex-grow: 1;}#sk-container-id-1 div.sk-label:hover label.sk-toggleable__label {background-color: #d4ebff;}#sk-container-id-1 div.sk-serial::before {content: \"\";position: absolute;border-left: 1px solid gray;box-sizing: border-box;top: 0;bottom: 0;left: 50%;z-index: 0;}#sk-container-id-1 div.sk-serial {display: flex;flex-direction: column;align-items: center;background-color: white;padding-right: 0.2em;padding-left: 0.2em;position: relative;}#sk-container-id-1 div.sk-item {position: relative;z-index: 1;}#sk-container-id-1 div.sk-parallel {display: flex;align-items: stretch;justify-content: center;background-color: white;position: relative;}#sk-container-id-1 div.sk-item::before, #sk-container-id-1 div.sk-parallel-item::before {content: \"\";position: absolute;border-left: 1px solid gray;box-sizing: border-box;top: 0;bottom: 0;left: 50%;z-index: -1;}#sk-container-id-1 div.sk-parallel-item {display: flex;flex-direction: column;z-index: 1;position: relative;background-color: white;}#sk-container-id-1 div.sk-parallel-item:first-child::after {align-self: flex-end;width: 50%;}#sk-container-id-1 div.sk-parallel-item:last-child::after {align-self: flex-start;width: 50%;}#sk-container-id-1 div.sk-parallel-item:only-child::after {width: 0;}#sk-container-id-1 div.sk-dashed-wrapped {border: 1px dashed gray;margin: 0 0.4em 0.5em 0.4em;box-sizing: border-box;padding-bottom: 0.4em;background-color: white;}#sk-container-id-1 div.sk-label label {font-family: monospace;font-weight: bold;display: inline-block;line-height: 1.2em;}#sk-container-id-1 div.sk-label-container {text-align: center;}#sk-container-id-1 div.sk-container {/* jupyter's `normalize.less` sets `[hidden] { display: none; }` but bootstrap.min.css set `[hidden] { display: none !important; }` so we also need the `!important` here to be able to override the default hidden behavior on the sphinx rendered scikit-learn.org. See: https://github.com/scikit-learn/scikit-learn/issues/21755 */display: inline-block !important;position: relative;}#sk-container-id-1 div.sk-text-repr-fallback {display: none;}</style><div id=\"sk-container-id-1\" class=\"sk-top-container\"><div class=\"sk-text-repr-fallback\"><pre>LogisticRegression(solver=&#x27;liblinear&#x27;)</pre><b>In a Jupyter environment, please rerun this cell to show the HTML representation or trust the notebook. <br />On GitHub, the HTML representation is unable to render, please try loading this page with nbviewer.org.</b></div><div class=\"sk-container\" hidden><div class=\"sk-item\"><div class=\"sk-estimator sk-toggleable\"><input class=\"sk-toggleable__control sk-hidden--visually\" id=\"sk-estimator-id-1\" type=\"checkbox\" checked><label for=\"sk-estimator-id-1\" class=\"sk-toggleable__label sk-toggleable__label-arrow\">LogisticRegression</label><div class=\"sk-toggleable__content\"><pre>LogisticRegression(solver=&#x27;liblinear&#x27;)</pre></div></div></div></div></div>"
            ]
          },
          "metadata": {},
          "execution_count": 69
        }
      ]
    },
    {
      "cell_type": "markdown",
      "source": [
        "Grafica del conjunto de entrenamiento"
      ],
      "metadata": {
        "id": "mPpr-Y7rc_TD"
      }
    },
    {
      "cell_type": "code",
      "source": [
        "from mlxtend.plotting import plot_decision_regions\n",
        "plot_decision_regions(X_train_pca,y_train,clf=lr,legend = 2)\n",
        "plt.xlabel('PC 1')\n",
        "plt.ylabel('PC 2')\n",
        "plt.show()"
      ],
      "metadata": {
        "colab": {
          "base_uri": "https://localhost:8080/",
          "height": 449
        },
        "id": "T4bWwo9KcoEr",
        "outputId": "0c5ee4f7-d585-49db-ed74-50099faae54f"
      },
      "execution_count": 71,
      "outputs": [
        {
          "output_type": "display_data",
          "data": {
            "text/plain": [
              "<Figure size 640x480 with 1 Axes>"
            ],
            "image/png": "[encoded data removed]"
          },
          "metadata": {}
        }
      ]
    },
    {
      "cell_type": "markdown",
      "source": [
        "SI tienes un conjunto etiquetado puede utilizar  LINEAR DISCRIMINANT ANALYSIS, y es aprendizaje supervisado\n",
        "\n",
        "LDA se encarga de encontrar componentes ortogonales que maximice la varianza entre las categorias y pueda asi, maximizar la separabilidad de los datos.\n"
      ],
      "metadata": {
        "id": "5v4Wig4reJO7"
      }
    },
    {
      "cell_type": "code",
      "source": [
        "#LDA sklearn\n",
        "\n",
        "import pandas as pd\n",
        "import matplotlib.pyplot as plt\n",
        "import numpy as np\n",
        "\n",
        "df_wine = pd.read_csv('https://bit.ly/3L1ZZI4',header=None)"
      ],
      "metadata": {
        "id": "EylbulvjflyZ"
      },
      "execution_count": 97,
      "outputs": []
    },
    {
      "cell_type": "markdown",
      "source": [
        "Separar en datos de entrenamiento y datos de testing"
      ],
      "metadata": {
        "id": "_YfiIRdXgDug"
      }
    },
    {
      "cell_type": "code",
      "source": [
        "from sklearn.model_selection import train_test_split\n",
        "\n",
        "X,y = df_wine.iloc[:,1:].values, df_wine.iloc[:,0].values\n",
        "\n",
        "X_train,X_test,y_train,y_test = train_test_split(X,y,test_size=0.3)"
      ],
      "metadata": {
        "id": "2QPde-X0gHF2"
      },
      "execution_count": 98,
      "outputs": []
    },
    {
      "cell_type": "markdown",
      "source": [
        "Estandarizamos los datos"
      ],
      "metadata": {
        "id": "ICWJWt3Cgle3"
      }
    },
    {
      "cell_type": "code",
      "source": [
        "from sklearn.preprocessing import StandardScaler\n",
        "\n",
        "sc = StandardScaler()\n",
        "\n",
        "X_train_std = sc.fit_transform(X_train)\n",
        "\n",
        "X_test_std = sc.transform(X_test)\n"
      ],
      "metadata": {
        "id": "t8E703oNgnD1"
      },
      "execution_count": 99,
      "outputs": []
    },
    {
      "cell_type": "code",
      "source": [
        "from pandas.core.indexes.multi import names_compat\n",
        "from IPython.utils.py3compat import no_code\n",
        "from sklearn.discriminant_analysis import LinearDiscriminantAnalysis as LDA\n",
        "from sklearn.linear_model import LogisticRegression\n",
        "\n",
        "lda = LDA(n_components=2)\n",
        "lr = LogisticRegression()\n",
        "\n",
        "X_train_lda = lda.fit_transform(X_train_std,y_train)\n",
        "X_test_lda = lda.transform(X_test_std)\n",
        "\n",
        "lr.fit(X_train_lda,y_train)\n"
      ],
      "metadata": {
        "colab": {
          "base_uri": "https://localhost:8080/",
          "height": 74
        },
        "id": "BBSrf7WWhGWU",
        "outputId": "0eeacbd6-aa4d-480d-cc17-f2fe0a91bc69"
      },
      "execution_count": 100,
      "outputs": [
        {
          "output_type": "execute_result",
          "data": {
            "text/plain": [
              "LogisticRegression()"
            ],
            "text/html": [
              "<style>#sk-container-id-6 {color: black;background-color: white;}#sk-container-id-6 pre{padding: 0;}#sk-container-id-6 div.sk-toggleable {background-color: white;}#sk-container-id-6 label.sk-toggleable__label {cursor: pointer;display: block;width: 100%;margin-bottom: 0;padding: 0.3em;box-sizing: border-box;text-align: center;}#sk-container-id-6 label.sk-toggleable__label-arrow:before {content: \"▸\";float: left;margin-right: 0.25em;color: #696969;}#sk-container-id-6 label.sk-toggleable__label-arrow:hover:before {color: black;}#sk-container-id-6 div.sk-estimator:hover label.sk-toggleable__label-arrow:before {color: black;}#sk-container-id-6 div.sk-toggleable__content {max-height: 0;max-width: 0;overflow: hidden;text-align: left;background-color: #f0f8ff;}#sk-container-id-6 div.sk-toggleable__content pre {margin: 0.2em;color: black;border-radius: 0.25em;background-color: #f0f8ff;}#sk-container-id-6 input.sk-toggleable__control:checked~div.sk-toggleable__content {max-height: 200px;max-width: 100%;overflow: auto;}#sk-container-id-6 input.sk-toggleable__control:checked~label.sk-toggleable__label-arrow:before {content: \"▾\";}#sk-container-id-6 div.sk-estimator input.sk-toggleable__control:checked~label.sk-toggleable__label {background-color: #d4ebff;}#sk-container-id-6 div.sk-label input.sk-toggleable__control:checked~label.sk-toggleable__label {background-color: #d4ebff;}#sk-container-id-6 input.sk-hidden--visually {border: 0;clip: rect(1px 1px 1px 1px);clip: rect(1px, 1px, 1px, 1px);height: 1px;margin: -1px;overflow: hidden;padding: 0;position: absolute;width: 1px;}#sk-container-id-6 div.sk-estimator {font-family: monospace;background-color: #f0f8ff;border: 1px dotted black;border-radius: 0.25em;box-sizing: border-box;margin-bottom: 0.5em;}#sk-container-id-6 div.sk-estimator:hover {background-color: #d4ebff;}#sk-container-id-6 div.sk-parallel-item::after {content: \"\";width: 100%;border-bottom: 1px solid gray;flex-grow: 1;}#sk-container-id-6 div.sk-label:hover label.sk-toggleable__label {background-color: #d4ebff;}#sk-container-id-6 div.sk-serial::before {content: \"\";position: absolute;border-left: 1px solid gray;box-sizing: border-box;top: 0;bottom: 0;left: 50%;z-index: 0;}#sk-container-id-6 div.sk-serial {display: flex;flex-direction: column;align-items: center;background-color: white;padding-right: 0.2em;padding-left: 0.2em;position: relative;}#sk-container-id-6 div.sk-item {position: relative;z-index: 1;}#sk-container-id-6 div.sk-parallel {display: flex;align-items: stretch;justify-content: center;background-color: white;position: relative;}#sk-container-id-6 div.sk-item::before, #sk-container-id-6 div.sk-parallel-item::before {content: \"\";position: absolute;border-left: 1px solid gray;box-sizing: border-box;top: 0;bottom: 0;left: 50%;z-index: -1;}#sk-container-id-6 div.sk-parallel-item {display: flex;flex-direction: column;z-index: 1;position: relative;background-color: white;}#sk-container-id-6 div.sk-parallel-item:first-child::after {align-self: flex-end;width: 50%;}#sk-container-id-6 div.sk-parallel-item:last-child::after {align-self: flex-start;width: 50%;}#sk-container-id-6 div.sk-parallel-item:only-child::after {width: 0;}#sk-container-id-6 div.sk-dashed-wrapped {border: 1px dashed gray;margin: 0 0.4em 0.5em 0.4em;box-sizing: border-box;padding-bottom: 0.4em;background-color: white;}#sk-container-id-6 div.sk-label label {font-family: monospace;font-weight: bold;display: inline-block;line-height: 1.2em;}#sk-container-id-6 div.sk-label-container {text-align: center;}#sk-container-id-6 div.sk-container {/* jupyter's `normalize.less` sets `[hidden] { display: none; }` but bootstrap.min.css set `[hidden] { display: none !important; }` so we also need the `!important` here to be able to override the default hidden behavior on the sphinx rendered scikit-learn.org. See: https://github.com/scikit-learn/scikit-learn/issues/21755 */display: inline-block !important;position: relative;}#sk-container-id-6 div.sk-text-repr-fallback {display: none;}</style><div id=\"sk-container-id-6\" class=\"sk-top-container\"><div class=\"sk-text-repr-fallback\"><pre>LogisticRegression()</pre><b>In a Jupyter environment, please rerun this cell to show the HTML representation or trust the notebook. <br />On GitHub, the HTML representation is unable to render, please try loading this page with nbviewer.org.</b></div><div class=\"sk-container\" hidden><div class=\"sk-item\"><div class=\"sk-estimator sk-toggleable\"><input class=\"sk-toggleable__control sk-hidden--visually\" id=\"sk-estimator-id-6\" type=\"checkbox\" checked><label for=\"sk-estimator-id-6\" class=\"sk-toggleable__label sk-toggleable__label-arrow\">LogisticRegression</label><div class=\"sk-toggleable__content\"><pre>LogisticRegression()</pre></div></div></div></div></div>"
            ]
          },
          "metadata": {},
          "execution_count": 100
        }
      ]
    },
    {
      "cell_type": "markdown",
      "source": [
        "Grafica de entrenamiento"
      ],
      "metadata": {
        "id": "xrjps1qxiAUs"
      }
    },
    {
      "cell_type": "code",
      "source": [
        "from mlxtend.plotting import plot_decision_regions\n",
        "\n",
        "plot_decision_regions(X_train_lda,y_train,clf=lr)\n",
        "plt.ylabel('LD 1')\n",
        "plt.ylabel('LD 2')\n",
        "plt.show()\n"
      ],
      "metadata": {
        "colab": {
          "base_uri": "https://localhost:8080/",
          "height": 430
        },
        "id": "iWGjce95h_N6",
        "outputId": "693fc213-c272-4e90-d021-c5dcc4575ec8"
      },
      "execution_count": 101,
      "outputs": [
        {
          "output_type": "display_data",
          "data": {
            "text/plain": [
              "<Figure size 640x480 with 1 Axes>"
            ],
            "image/png": "[encoded data removed]"
          },
          "metadata": {}
        }
      ]
    },
    {
      "cell_type": "markdown",
      "source": [
        "#PCA Y LDA nos ayuda a separar variables linealmente separables"
      ],
      "metadata": {
        "id": "1BnqPJjNkq3A"
      }
    }
  ]
}